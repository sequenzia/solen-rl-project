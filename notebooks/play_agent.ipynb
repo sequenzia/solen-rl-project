{
 "cells": [
  {
   "cell_type": "code",
   "execution_count": null,
   "metadata": {},
   "outputs": [],
   "source": [
    "import sys, importlib\n",
    "import numpy as np\n",
    "import pandas as pd\n",
    "\n",
    "module_name = 'infer'\n",
    "module_path = '/home/sequenzia/dev/solen-rl-project/utils/infer.py'\n",
    "\n",
    "spec = importlib.util.spec_from_file_location(module_name, module_path)\n",
    "infer = importlib.util.module_from_spec(spec)\n",
    "sys.modules[module_name] = infer\n",
    "spec.loader.exec_module(infer)\n",
    "\n",
    "AGENTS_DIR = \"/home/sequenzia/dev/solen-rl-project/trained-agents\"\n",
    "\n",
    "DATA_DIR = \"/home/sequenzia/dev/solen-rl-project/data\"\n",
    "\n",
    "N_ENVS = 1\n",
    "N_STEPS = 100000\n",
    "\n",
    "NO_RENDER = False"
   ]
  },
  {
   "cell_type": "code",
   "execution_count": null,
   "metadata": {},
   "outputs": [],
   "source": [
    "ALGO = \"a2c\"\n",
    "ROM = \"Breakout\"\n",
    "\n",
    "ENV_ID = f\"{ROM}NoFrameskip-v4\"\n",
    "\n",
    "RUN_KEY = f\"{ALGO.upper()}_{ROM.upper()}\"\n",
    "\n",
    "infer_logs = infer.infer(env_id=ENV_ID,\n",
    "                         algo=ALGO,\n",
    "                         agents_dir=AGENTS_DIR,\n",
    "                         n_envs=N_ENVS,\n",
    "                         n_steps=N_STEPS,\n",
    "                         no_render=NO_RENDER,\n",
    "                         debug_on=False)\n",
    "\n",
    "infer_data_np = np.empty((0,3))\n",
    "\n",
    "for idx in range(len(infer_logs)):\n",
    "\n",
    "    infer_data_np = np.vstack((infer_data_np, np.array([infer_logs[idx].scores, infer_logs[idx].times, infer_logs[idx].lengths]).T))\n",
    "\n",
    "infer_data = pd.DataFrame(infer_data_np, columns=[\"scores\", \"times\", \"lengths\"])\n"
   ]
  }
 ],
 "metadata": {
  "kernelspec": {
   "display_name": "gym",
   "language": "python",
   "name": "python3"
  },
  "language_info": {
   "codemirror_mode": {
    "name": "ipython",
    "version": 3
   },
   "file_extension": ".py",
   "mimetype": "text/x-python",
   "name": "python",
   "nbconvert_exporter": "python",
   "pygments_lexer": "ipython3",
   "version": "3.9.0"
  }
 },
 "nbformat": 4,
 "nbformat_minor": 2
}

{
  "cells": [
    {
      "cell_type": "code",
      "execution_count": null,
      "metadata": {
        "id": "PJ68jgRznC2D"
      },
      "outputs": [],
      "source": [
        "import os\n",
        "\n",
        "MAIN_DIR = \"/home/ubuntu/dev/solen-rl-project\"\n",
        "ZOO_DIR = \"/home/ubuntu/dev/repos/rl-baselines3-zoo\"\n",
        "\n",
        "os.environ[\"WANDB_API_KEY\"] = \"8c880e6018cf423b7714cf055c5fd6152e1ae117\"\n",
        "os.environ[\"WANDB_DIR\"] = f\"{MAIN_DIR}/logs\"\n",
        "\n",
        "LOG_DIR = f\"{MAIN_DIR}/agents\"\n",
        "CONFIG_DIR = f\"{MAIN_DIR}/configs\"\n",
        "TENSORBOARD_DIR = f\"{MAIN_DIR}/logs/tensorboard\"\n",
        "\n",
        "PROJECT_NAME = \"Solen-RL-Project-3\"\n",
        "\n",
        "SEED = 43\n",
        "\n",
        "SAVE_FREQ = 100000\n",
        "EVAL_FREQ = 10000\n",
        "EVAL_EPISODES = 5\n",
        "\n",
        "VERBOSE = 1\n",
        "DEVICE = \"cuda\"\n",
        "\n",
        "ROM = \"Breakout\"\n",
        "\n",
        "ALGO = \"ppo\"\n",
        "\n",
        "ENV_ID = f\"{ROM}NoFrameskip-v4\"\n",
        "\n",
        "TAGS = f\"{ROM} {ALGO.upper()}\"\n",
        "CONFIG_PATH = f\"{CONFIG_DIR}/{ALGO}.yml\"\n",
        "\n",
        "CMD = f\"cd {MAIN_DIR} && python {ZOO_DIR}/train.py\"\n",
        "CMD += f\" --algo {ALGO}\"\n",
        "CMD += f\" --env {ENV_ID}\"\n",
        "CMD += f\" --conf {CONFIG_PATH}\"\n",
        "CMD += f\" --log-folder {LOG_DIR}\"\n",
        "CMD += f\" --tensorboard-log {TENSORBOARD_DIR}\"\n",
        "CMD += f\" --wandb-project-name {PROJECT_NAME}\"\n",
        "CMD += f\" --seed {SEED}\"\n",
        "CMD += f\" --save-freq {SAVE_FREQ}\"\n",
        "CMD += f\" --eval-freq {EVAL_FREQ}\"\n",
        "CMD += f\" --eval-episodes {EVAL_EPISODES}\"\n",
        "CMD += f\" --verbose {VERBOSE}\"\n",
        "CMD += f\" --device {DEVICE}\"\n",
        "CMD += f\" -tags {TAGS}\"\n",
        "CMD += f\" --track\"\n",
        "\n",
        "!{CMD}\n"
      ]
    }
  ],
  "metadata": {
    "colab": {
      "authorship_tag": "ABX9TyNUJg7iukEHhGa3kNs+SMUo",
      "include_colab_link": true,
      "provenance": []
    },
    "kernelspec": {
      "display_name": "Python 3",
      "name": "python3"
    },
    "language_info": {
      "name": "python"
    }
  },
  "nbformat": 4,
  "nbformat_minor": 0
}

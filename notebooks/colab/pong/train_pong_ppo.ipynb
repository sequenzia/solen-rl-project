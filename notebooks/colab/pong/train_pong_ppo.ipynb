{
  "cells": [
    {
      "cell_type": "markdown",
      "metadata": {
        "colab_type": "text",
        "id": "view-in-github"
      },
      "source": [
        "<a href=\"https://colab.research.google.com/github/sequenzia/solen-rl-project/blob/main/notebooks/colab/breakout/train_pong_ppo.ipynb\" target=\"_parent\"><img src=\"https://colab.research.google.com/assets/colab-badge.svg\" alt=\"Open In Colab\"/></a>"
      ]
    },
    {
      "cell_type": "code",
      "execution_count": null,
      "metadata": {
        "id": "PJ68jgRznC2D"
      },
      "outputs": [],
      "source": [
        "import os\n",
        "from google.colab import drive\n",
        "\n",
        "drive.mount('/content/drive')\n",
        "\n",
        "REPOS_DIR = '/content/repos'\n",
        "\n",
        "SOLEN_DIR = f\"{REPOS_DIR}/solen-rl-project\"\n",
        "ZOO_DIR = f\"{REPOS_DIR}/rl-baselines3-zoo\"\n",
        "SB3_DIR = f\"{REPOS_DIR}/stable-baselines3\"\n",
        "REQ_PATH = f\"{SOLEN_DIR}/requirements.txt\"\n",
        "\n",
        "if not os.path.exists(REPOS_DIR):\n",
        "    os.makedirs(REPOS_DIR)\n",
        "    !git clone https://github.com/sequenzia/solen-rl-project.git {SOLEN_DIR}\n",
        "    !git clone https://github.com/sequenzia/rl-baselines3-zoo {ZOO_DIR}\n",
        "    !git clone https://github.com/sequenzia/stable-baselines3.git {SB3_DIR}\n",
        "\n",
        "%pip install -r {REQ_PATH}\n",
        "\n",
        "PYTHONPATH = os.getenv(\"PYTHONPATH\")\n",
        "\n",
        "os.environ[\"PYTHONPATH\"] = f\"{SB3_DIR}:{PYTHONPATH}\"\n",
        "os.environ[\"WANDB_API_KEY\"] = \"8c880e6018cf423b7714cf055c5fd6152e1ae117\"\n",
        "os.environ[\"WANDB_DIR\"] = f\"{SOLEN_DIR}/logs\"\n",
        "\n",
        "LOG_DIR = f\"{SOLEN_DIR}/trained-agents\"\n",
        "CONFIG_DIR = f\"{SOLEN_DIR}/configs\"\n",
        "TENSORBOARD_DIR = f\"{SOLEN_DIR}/logs/tensorboard\"\n",
        "\n",
        "PROJECT_NAME = \"Solen-RL-Project\"\n",
        "\n",
        "SEED = 43\n",
        "\n",
        "SAVE_FREQ = 100000\n",
        "EVAL_FREQ = 10000\n",
        "EVAL_EPISODES = 5\n",
        "\n",
        "VERBOSE = 1\n",
        "DEVICE = \"cuda\"\n",
        "\n",
        "ROM = \"Pong\"\n",
        "\n",
        "ALGO = \"ppo\"\n",
        "\n",
        "ENV_ID = f\"{ROM}NoFrameskip-v4\"\n",
        "\n",
        "TAGS = f\"{ROM} {ALGO.upper()}\"\n",
        "CONFIG_PATH = f\"{CONFIG_DIR}/{ALGO}.yml\"\n",
        "\n",
        "CMD = f\"cd {SOLEN_DIR} && python {ZOO_DIR}/train.py\"\n",
        "CMD += f\" --algo {ALGO}\"\n",
        "CMD += f\" --env {ENV_ID}\"\n",
        "CMD += f\" --conf {CONFIG_PATH}\"\n",
        "CMD += f\" --log-folder {LOG_DIR}\"\n",
        "CMD += f\" --tensorboard-log {TENSORBOARD_DIR}\"\n",
        "CMD += f\" --wandb-project-name {PROJECT_NAME}\"\n",
        "CMD += f\" --seed {SEED}\"\n",
        "CMD += f\" --save-freq {SAVE_FREQ}\"\n",
        "CMD += f\" --eval-freq {EVAL_FREQ}\"\n",
        "CMD += f\" --eval-episodes {EVAL_EPISODES}\"\n",
        "CMD += f\" --verbose {VERBOSE}\"\n",
        "CMD += f\" --device {DEVICE}\"\n",
        "CMD += f\" -tags {TAGS}\"\n",
        "CMD += f\" --track\"\n",
        "\n",
        "!{CMD}\n",
        "\n",
        "!cp -r {SOLEN_DIR}/trained-agents/* /content/drive/MyDrive/trained-agents/"
      ]
    }
  ],
  "metadata": {
    "colab": {
      "authorship_tag": "ABX9TyNUJg7iukEHhGa3kNs+SMUo",
      "include_colab_link": true,
      "provenance": []
    },
    "kernelspec": {
      "display_name": "Python 3",
      "name": "python3"
    },
    "language_info": {
      "name": "python"
    }
  },
  "nbformat": 4,
  "nbformat_minor": 0
}

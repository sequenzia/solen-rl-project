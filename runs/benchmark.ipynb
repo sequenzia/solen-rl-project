{
 "cells": [
  {
   "cell_type": "code",
   "execution_count": 1,
   "metadata": {},
   "outputs": [
    {
     "name": "stdout",
     "output_type": "stream",
     "text": [
      "1/12\n",
      "Evaluating ppo on BreakoutNoFrameskip-v4...\n",
      "python: can't open file '/home/sequenzia/dev/solen-rl-project/notebooks/enjoy.py': [Errno 2] No such file or directory\n",
      "Error during evaluation, skipping...\n",
      "2/12\n",
      "Evaluating ppo on MsPacmanNoFrameskip-v4...\n",
      "python: can't open file '/home/sequenzia/dev/solen-rl-project/notebooks/enjoy.py': [Errno 2] No such file or directory\n",
      "Error during evaluation, skipping...\n",
      "3/12\n",
      "Evaluating ppo on PongNoFrameskip-v4...\n",
      "python: can't open file '/home/sequenzia/dev/solen-rl-project/notebooks/enjoy.py': [Errno 2] No such file or directory\n",
      "Error during evaluation, skipping...\n",
      "4/12\n",
      "Evaluating ppo on SpaceInvadersNoFrameskip-v4...\n",
      "python: can't open file '/home/sequenzia/dev/solen-rl-project/notebooks/enjoy.py': [Errno 2] No such file or directory\n",
      "Error during evaluation, skipping...\n",
      "5/12\n",
      "Evaluating a2c on BreakoutNoFrameskip-v4...\n",
      "python: can't open file '/home/sequenzia/dev/solen-rl-project/notebooks/enjoy.py': [Errno 2] No such file or directory\n",
      "Error during evaluation, skipping...\n",
      "6/12\n",
      "Evaluating a2c on MsPacmanNoFrameskip-v4...\n",
      "python: can't open file '/home/sequenzia/dev/solen-rl-project/notebooks/enjoy.py': [Errno 2] No such file or directory\n",
      "Error during evaluation, skipping...\n",
      "7/12\n",
      "Evaluating a2c on PongNoFrameskip-v4...\n",
      "python: can't open file '/home/sequenzia/dev/solen-rl-project/notebooks/enjoy.py': [Errno 2] No such file or directory\n",
      "Error during evaluation, skipping...\n",
      "8/12\n",
      "Evaluating a2c on SpaceInvadersNoFrameskip-v4...\n",
      "python: can't open file '/home/sequenzia/dev/solen-rl-project/notebooks/enjoy.py': [Errno 2] No such file or directory\n",
      "Error during evaluation, skipping...\n",
      "9/12\n",
      "Evaluating dqn on BreakoutNoFrameskip-v4...\n",
      "python: can't open file '/home/sequenzia/dev/solen-rl-project/notebooks/enjoy.py': [Errno 2] No such file or directory\n",
      "Error during evaluation, skipping...\n",
      "10/12\n",
      "Evaluating dqn on MsPacmanNoFrameskip-v4...\n",
      "python: can't open file '/home/sequenzia/dev/solen-rl-project/notebooks/enjoy.py': [Errno 2] No such file or directory\n",
      "Error during evaluation, skipping...\n",
      "11/12\n",
      "Evaluating dqn on PongNoFrameskip-v4...\n",
      "python: can't open file '/home/sequenzia/dev/solen-rl-project/notebooks/enjoy.py': [Errno 2] No such file or directory\n",
      "Error during evaluation, skipping...\n",
      "12/12\n",
      "Evaluating dqn on SpaceInvadersNoFrameskip-v4...\n",
      "python: can't open file '/home/sequenzia/dev/solen-rl-project/notebooks/enjoy.py': [Errno 2] No such file or directory\n",
      "Error during evaluation, skipping...\n",
      "Traceback (most recent call last):\n",
      "  File \"/home/sequenzia/dev/repos/rl-baselines3-zoo/rl_zoo3/benchmark.py\", line 194, in <module>\n",
      "    with open(tmp_path, \"w\") as f:\n",
      "FileNotFoundError: [Errno 2] No such file or directory: '/home/sequenzia/dev/solen-rl-project/benbenchmarks/benchmark.md'\n"
     ]
    }
   ],
   "source": [
    "from dotenv import load_dotenv\n",
    "\n",
    "load_dotenv()\n",
    "\n",
    "ZOO_DIR = \"/home/sequenzia/dev/repos/rl-baselines3-zoo/rl_zoo3\"\n",
    "\n",
    "LOGS_DIR = \"/home/sequenzia/dev/solen-rl-project/trained-agents\"\n",
    "BENCHMARK_DIR = \"/home/sequenzia/dev/solen-rl-project/benbenchmarks\"\n",
    "\n",
    "ALGO = \"a2c\"\n",
    "ROM = \"Breakout\"\n",
    "\n",
    "N_ENVS = 1\n",
    "N_STEPS = 1000\n",
    "\n",
    "ENV_ID = f\"{ROM.capitalize()}NoFrameskip-v4\"\n",
    "\n",
    "CMD = f\"python {ZOO_DIR}/benchmark.py\"\n",
    "CMD += f\" --log-dir {LOGS_DIR}\"\n",
    "CMD += f\" --benchmark-dir {BENCHMARK_DIR}\"\n",
    "CMD += f\" --n-envs {N_ENVS}\"\n",
    "CMD += f\" -n {N_STEPS}\"\n",
    "CMD += f\" --no-hub\"\n",
    "CMD += f\" --verbose 1\"\n",
    "\n",
    "!{CMD}\n",
    "\n"
   ]
  }
 ],
 "metadata": {
  "kernelspec": {
   "display_name": "gym",
   "language": "python",
   "name": "python3"
  },
  "language_info": {
   "codemirror_mode": {
    "name": "ipython",
    "version": 3
   },
   "file_extension": ".py",
   "mimetype": "text/x-python",
   "name": "python",
   "nbconvert_exporter": "python",
   "pygments_lexer": "ipython3",
   "version": "3.9.0"
  }
 },
 "nbformat": 4,
 "nbformat_minor": 2
}

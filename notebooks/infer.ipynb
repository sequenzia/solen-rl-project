{
 "cells": [
  {
   "cell_type": "code",
   "execution_count": null,
   "metadata": {},
   "outputs": [],
   "source": [
    "import sys, importlib\n",
    "\n",
    "module_name = 'infer'\n",
    "module_path = '/home/sequenzia/dev/solen-rl-project/utils/infer.py'\n",
    "\n",
    "spec = importlib.util.spec_from_file_location(module_name, module_path)\n",
    "infer = importlib.util.module_from_spec(spec)\n",
    "sys.modules[module_name] = infer\n",
    "spec.loader.exec_module(infer)\n",
    "\n",
    "AGENTS_DIR = \"/home/sequenzia/dev/solen-rl-project/trained-agents\"\n",
    "REWARDS_DIR = f\"/home/sequenzia/dev/solen-rl-project/logs/rewards\"\n",
    "\n",
    "ALGO = \"dqn\"\n",
    "ROM = \"Pong\"\n",
    "\n",
    "N_ENVS = 1\n",
    "N_STEPS = 10000\n",
    "\n",
    "NO_RENDER = False\n",
    "\n",
    "ENV_ID = f\"{ROM}NoFrameskip-v4\"\n",
    "\n",
    "infer_logs = []\n",
    "\n",
    "infer_logs = infer.infer(env_id=ENV_ID,\n",
    "                                algo=ALGO,\n",
    "                                agents_dir=AGENTS_DIR,\n",
    "                                n_envs=N_ENVS,\n",
    "                                n_steps=N_STEPS,\n",
    "                                no_render=NO_RENDER,\n",
    "                                rewards_dir=REWARDS_DIR,\n",
    "                                debug_on=False)\n",
    "\n"
   ]
  },
  {
   "cell_type": "code",
   "execution_count": null,
   "metadata": {},
   "outputs": [],
   "source": [
    "infer_logs[0].info_logs[0]"
   ]
  }
 ],
 "metadata": {
  "kernelspec": {
   "display_name": "gym",
   "language": "python",
   "name": "python3"
  },
  "language_info": {
   "codemirror_mode": {
    "name": "ipython",
    "version": 3
   },
   "file_extension": ".py",
   "mimetype": "text/x-python",
   "name": "python",
   "nbconvert_exporter": "python",
   "pygments_lexer": "ipython3",
   "version": "3.9.0"
  }
 },
 "nbformat": 4,
 "nbformat_minor": 2
}

{
 "cells": [
  {
   "cell_type": "code",
   "execution_count": null,
   "metadata": {},
   "outputs": [],
   "source": [
    "import os\n",
    "\n",
    "REPOS_DIR = '/content/repos/'\n",
    "\n",
    "SOLEN_DIR = f\"{REPOS_DIR}/solen-rl-project\"\n",
    "ZOO_DIR = f\"{REPOS_DIR}/rl-baselines3-zoo\"\n",
    "SB3_DIR = f\"{REPOS_DIR}/stable-baselines3\"\n",
    "\n",
    "if not os.path.exists(REPOS_DIR):\n",
    "    os.makedirs(REPOS_DIR)\n",
    "    !git clone https://github.com/sequenzia/solen-rl-project.git {SOLEN_DIR}\n",
    "    !git clone https://github.com/sequenzia/rl-baselines3-zoo {ZOO_DIR}\n",
    "    !git clone https://github.com/sequenzia/stable-baselines3.git {SB3_DIR}"
   ]
  },
  {
   "cell_type": "code",
   "execution_count": null,
   "metadata": {},
   "outputs": [],
   "source": [
    "!pip install -r /content/repos/solen-rl-project/requirements.txt\n",
    "\n",
    "PYTHONPATH = os.getenv(\"PYTHONPATH\")\n",
    "\n",
    "os.environ[\"PYTHONPATH\"] = f\"/content/repos/stable-baselines3:{PYTHONPATH}\""
   ]
  },
  {
   "cell_type": "code",
   "execution_count": null,
   "metadata": {},
   "outputs": [],
   "source": [
    "LOG_DIR = f\"{SOLEN_DIR}/trained-agents\"\n",
    "CONFIG_DIR = f\"{SOLEN_DIR}/configs\"\n",
    "TENSORBOARD_DIR = f\"{SOLEN_DIR}/logs/tensorboard\"\n",
    "\n",
    "PROJECT_NAME = \"Solen-RL-Project\"\n",
    "\n",
    "SEED = 43\n",
    "\n",
    "SAVE_FREQ = 10000\n",
    "EVAL_FREQ = 10000\n",
    "EVAL_EPISODES = 5\n",
    "VERBOSE = 1\n",
    "\n",
    "ROM = \"MsPacman\"\n",
    "ENV_ID = f\"{ROM}NoFrameskip-v4\"\n",
    "\n",
    "CMD = f\"cd {SOLEN_DIR} && python {ZOO_DIR}/train.py\"\n",
    "CMD += f\" --env {ENV_ID}\"\n",
    "CMD += f\" --log-folder {LOG_DIR}\"\n",
    "CMD += f\" --tensorboard-log {TENSORBOARD_DIR}\"\n",
    "CMD += f\" --wandb-project-name {PROJECT_NAME}\"\n",
    "CMD += f\" --seed {SEED}\"\n",
    "CMD += f\" --save-freq {SAVE_FREQ}\"\n",
    "CMD += f\" --eval-freq {EVAL_FREQ}\"\n",
    "CMD += f\" --eval-episodes {EVAL_EPISODES}\"\n",
    "CMD += f\" --verbose {VERBOSE}\"\n",
    "CMD += f\" --device cuda\"\n",
    "CMD += f\" --track\""
   ]
  },
  {
   "cell_type": "code",
   "execution_count": null,
   "metadata": {},
   "outputs": [],
   "source": [
    "ALGO = \"a2c\"\n",
    "TAGS = f\"{ROM} {ALGO.upper()}\"\n",
    "CONFIG_PATH = f\"{CONFIG_DIR}/{ALGO}.yml\"\n",
    "CMD = f\"{CMD} --algo {ALGO} --conf {CONFIG_PATH} -tags {TAGS}\"\n",
    "\n",
    "!{CMD}"
   ]
  },
  {
   "cell_type": "code",
   "execution_count": null,
   "metadata": {},
   "outputs": [],
   "source": [
    "ALGO = \"ppo\"\n",
    "TAGS = f\"{ROM} {ALGO.upper()}\"\n",
    "CONFIG_PATH = f\"{CONFIG_DIR}/{ALGO}.yml\"\n",
    "CMD = f\"{CMD} --algo {ALGO} --conf {CONFIG_PATH} -tags {TAGS}\"\n",
    "\n",
    "!{CMD}"
   ]
  },
  {
   "cell_type": "code",
   "execution_count": null,
   "metadata": {},
   "outputs": [],
   "source": [
    "ALGO = \"dqn\"\n",
    "TAGS = f\"{ROM} {ALGO.upper()}\"\n",
    "CONFIG_PATH = f\"{CONFIG_DIR}/{ALGO}.yml\"\n",
    "CMD = f\"{CMD} --algo {ALGO} --conf {CONFIG_PATH} -tags {TAGS} --save-replay-buffer\"\n",
    "\n",
    "!{CMD}"
   ]
  }
 ],
 "metadata": {
  "language_info": {
   "name": "python"
  }
 },
 "nbformat": 4,
 "nbformat_minor": 2
}

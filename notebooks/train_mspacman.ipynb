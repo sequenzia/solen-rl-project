{
 "cells": [
  {
   "cell_type": "code",
   "execution_count": null,
   "metadata": {},
   "outputs": [],
   "source": [
    "from dotenv import load_dotenv\n",
    "\n",
    "load_dotenv()\n",
    "\n",
    "RUN_DIR = \"/home/sequenzia/dev/rl-project\"\n",
    "ZOO_DIR = \"/home/sequenzia/dev/repos/rl-baselines3-zoo/rl_zoo3\"\n",
    "LOG_DIR = \"/home/sequenzia/dev/rl-project/trained-agents\"\n",
    "CONFIG_DIR = \"/home/sequenzia/dev/rl-project/configs\"\n",
    "TENSORBOARD_DIR = \"/home/sequenzia/dev/rl-project/logs/tensorboard\"\n",
    "\n",
    "ENV_ID = \"MsPacmanNoFrameskip-v4\"\n",
    "ROM = \"MsPacman\"\n",
    "\n",
    "PROJECT_NAME = \"Solen-RL-Project\"\n",
    "\n",
    "SEED = 43\n",
    "\n",
    "SAVE_FREQ = 10000\n",
    "EVAL_FREQ = 10000\n",
    "EVAL_EPISODES = 5\n",
    "VERBOSE = 1\n",
    "\n",
    "CMD = f\"cd {RUN_DIR} && python {ZOO_DIR}/train.py\"\n",
    "CMD += f\" --env {ENV_ID}\"\n",
    "CMD += f\" --log-folder {LOG_DIR}\"\n",
    "CMD += f\" --tensorboard-log {TENSORBOARD_DIR}\"\n",
    "CMD += f\" --wandb-project-name {PROJECT_NAME}\"\n",
    "CMD += f\" --seed {SEED}\"\n",
    "CMD += f\" --save-freq {SAVE_FREQ}\"\n",
    "CMD += f\" --eval-freq {EVAL_FREQ}\"\n",
    "CMD += f\" --eval-episodes {EVAL_EPISODES}\"\n",
    "CMD += f\" --verbose {VERBOSE}\"\n",
    "CMD += f\" --device cuda\"\n",
    "CMD += f\" --track\""
   ]
  },
  {
   "cell_type": "code",
   "execution_count": null,
   "metadata": {},
   "outputs": [],
   "source": [
    "ALGO = \"a2c\"\n",
    "TAGS = f\"{ROM} {ALGO.upper()}\"\n",
    "CONFIG_PATH = f\"{CONFIG_DIR}/{ALGO}.yml\"\n",
    "CMD = f\"{CMD} --algo {ALGO} --conf {CONFIG_PATH} -tags {TAGS}\"\n",
    "\n",
    "!{CMD}"
   ]
  },
  {
   "cell_type": "code",
   "execution_count": null,
   "metadata": {},
   "outputs": [],
   "source": [
    "ALGO = \"ppo\"\n",
    "TAGS = f\"{ROM} {ALGO.upper()}\"\n",
    "CONFIG_PATH = f\"{CONFIG_DIR}/{ALGO}.yml\"\n",
    "CMD = f\"{CMD} --algo {ALGO} --conf {CONFIG_PATH} -tags {TAGS}\"\n",
    "\n",
    "!{CMD}"
   ]
  },
  {
   "cell_type": "code",
   "execution_count": null,
   "metadata": {},
   "outputs": [],
   "source": [
    "ALGO = \"dqn\"\n",
    "TAGS = f\"{ROM} {ALGO.upper()}\"\n",
    "CONFIG_PATH = f\"{CONFIG_DIR}/{ALGO}.yml\"\n",
    "CMD = f\"{CMD} --algo {ALGO} --conf {CONFIG_PATH} -tags {TAGS} --save-replay-buffer\"\n",
    "\n",
    "!{CMD}"
   ]
  }
 ],
 "metadata": {
  "kernelspec": {
   "display_name": "gym",
   "language": "python",
   "name": "python3"
  },
  "language_info": {
   "codemirror_mode": {
    "name": "ipython",
    "version": 3
   },
   "file_extension": ".py",
   "mimetype": "text/x-python",
   "name": "python",
   "nbconvert_exporter": "python",
   "pygments_lexer": "ipython3",
   "version": "3.9.0"
  }
 },
 "nbformat": 4,
 "nbformat_minor": 2
}

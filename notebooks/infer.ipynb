{
 "cells": [
  {
   "cell_type": "code",
   "execution_count": 1,
   "metadata": {},
   "outputs": [
    {
     "name": "stdout",
     "output_type": "stream",
     "text": [
      "passive_env_checker gymnasium.logger\n"
     ]
    },
    {
     "name": "stderr",
     "output_type": "stream",
     "text": [
      "/home/sequenzia/anaconda3/envs/gym/lib/python3.9/site-packages/tqdm/auto.py:21: TqdmWarning: IProgress not found. Please update jupyter and ipywidgets. See https://ipywidgets.readthedocs.io/en/stable/user_install.html\n",
      "  from .autonotebook import tqdm as notebook_tqdm\n",
      "Failed to detect the name of this notebook, you can set it manually with the WANDB_NOTEBOOK_NAME environment variable to enable code saving.\n",
      "\u001b[34m\u001b[1mwandb\u001b[0m: Currently logged in as: \u001b[33mappliedtheta\u001b[0m. Use \u001b[1m`wandb login --relogin`\u001b[0m to force relogin\n"
     ]
    },
    {
     "data": {
      "text/html": [
       "Tracking run with wandb version 0.16.1"
      ],
      "text/plain": [
       "<IPython.core.display.HTML object>"
      ]
     },
     "metadata": {},
     "output_type": "display_data"
    },
    {
     "data": {
      "text/html": [
       "Run data is saved locally in <code>/home/sequenzia/dev/solen-rl-project/logs/wandb/run-20231219_164021-fa3hi2lk</code>"
      ],
      "text/plain": [
       "<IPython.core.display.HTML object>"
      ]
     },
     "metadata": {},
     "output_type": "display_data"
    },
    {
     "data": {
      "text/html": [
       "Syncing run <strong><a href='https://wandb.ai/appliedtheta/Solen-RL-Project-Eval/runs/fa3hi2lk' target=\"_blank\">dqn_BreakoutNoFrameskip-v4_1_2023-12-19-16-40-20</a></strong> to <a href='https://wandb.ai/appliedtheta/Solen-RL-Project-Eval' target=\"_blank\">Weights & Biases</a> (<a href='https://wandb.me/run' target=\"_blank\">docs</a>)<br/>"
      ],
      "text/plain": [
       "<IPython.core.display.HTML object>"
      ]
     },
     "metadata": {},
     "output_type": "display_data"
    },
    {
     "data": {
      "text/html": [
       " View project at <a href='https://wandb.ai/appliedtheta/Solen-RL-Project-Eval' target=\"_blank\">https://wandb.ai/appliedtheta/Solen-RL-Project-Eval</a>"
      ],
      "text/plain": [
       "<IPython.core.display.HTML object>"
      ]
     },
     "metadata": {},
     "output_type": "display_data"
    },
    {
     "data": {
      "text/html": [
       " View run at <a href='https://wandb.ai/appliedtheta/Solen-RL-Project-Eval/runs/fa3hi2lk' target=\"_blank\">https://wandb.ai/appliedtheta/Solen-RL-Project-Eval/runs/fa3hi2lk</a>"
      ],
      "text/plain": [
       "<IPython.core.display.HTML object>"
      ]
     },
     "metadata": {},
     "output_type": "display_data"
    },
    {
     "name": "stdout",
     "output_type": "stream",
     "text": [
      "\n",
      "Loading /home/sequenzia/dev/solen-rl-project/trained-agents/dqn/BreakoutNoFrameskip-v4_1/best_model.zip\n",
      "passive_env_checker gymnasium.logger\n",
      "passive_env_checker gymnasium.logger\n"
     ]
    },
    {
     "name": "stderr",
     "output_type": "stream",
     "text": [
      "A.L.E: Arcade Learning Environment (version 0.8.1+53f58b7)\n",
      "[Powered by Stella]\n",
      "A.L.E: Arcade Learning Environment (version 0.8.1+53f58b7)\n",
      "[Powered by Stella]\n"
     ]
    },
    {
     "name": "stdout",
     "output_type": "stream",
     "text": [
      "Stacking 4 frames\n"
     ]
    },
    {
     "name": "stderr",
     "output_type": "stream",
     "text": [
      "/home/sequenzia/anaconda3/envs/gym/lib/python3.9/site-packages/gymnasium/utils/passive_env_checker.py:338: UserWarning: \u001b[33mWARN: No render fps was declared in the environment (env.metadata['render_fps'] is None or not defined), rendering may occur at inconsistent fps.\u001b[0m\n",
      "  logger.warn(\n",
      "/home/sequenzia/anaconda3/envs/gym/lib/python3.9/site-packages/gymnasium/utils/passive_env_checker.py:338: UserWarning: \u001b[33mWARN: No render fps was declared in the environment (env.metadata['render_fps'] is None or not defined), rendering may occur at inconsistent fps.\u001b[0m\n",
      "  logger.warn(\n"
     ]
    },
    {
     "name": "stdout",
     "output_type": "stream",
     "text": [
      "\n",
      "\n",
      "----- ENV: 1 EPISODE: 1 -----\n",
      "Episode Score: 109.00\n",
      "Episode Length: 5409\n",
      "------------------------------\n",
      "\n",
      "\n",
      "\n",
      "\n",
      "----- ENV: 2 EPISODE: 1 -----\n",
      "Episode Score: 109.00\n",
      "Episode Length: 5409\n",
      "------------------------------\n",
      "\n",
      "\n",
      "\n",
      "\n",
      "----- ENV: 1 EPISODE: 2 -----\n",
      "Episode Score: 53.00\n",
      "Episode Length: 4123\n",
      "------------------------------\n",
      "\n",
      "\n",
      "\n",
      "\n",
      "----- ENV: 2 EPISODE: 2 -----\n",
      "Episode Score: 44.00\n",
      "Episode Length: 4966\n",
      "------------------------------\n",
      "\n",
      "\n",
      "\n",
      "\n",
      "----- ENV: 2 EPISODE: 3 -----\n",
      "Episode Score: 57.00\n",
      "Episode Length: 5338\n",
      "------------------------------\n",
      "\n",
      "\n",
      "\n",
      "\n",
      "----- ENV: 1 EPISODE: 3 -----\n",
      "Episode Score: 257.00\n",
      "Episode Length: 7726\n",
      "------------------------------\n",
      "\n",
      "\n",
      "\n",
      "\n",
      "----- ENV: 2 EPISODE: 4 -----\n",
      "Episode Score: 39.00\n",
      "Episode Length: 4242\n",
      "------------------------------\n",
      "\n",
      "\n",
      "\n",
      "\n",
      "----- ENV: 1 EPISODE: 4 -----\n",
      "Episode Score: 120.00\n",
      "Episode Length: 4984\n",
      "------------------------------\n",
      "\n",
      "\n",
      "\n",
      "\n",
      "----- ENV: 2 EPISODE: 5 -----\n",
      "Episode Score: 74.00\n",
      "Episode Length: 5204\n",
      "------------------------------\n",
      "\n",
      "\n",
      "\n",
      "\n",
      "----- ENV: 1 EPISODE: 5 -----\n",
      "Episode Score: 110.00\n",
      "Episode Length: 5955\n",
      "------------------------------\n",
      "\n",
      "\n",
      "\n",
      "\n",
      "----- ENV: 2 EPISODE: 6 -----\n",
      "Episode Score: 29.00\n",
      "Episode Length: 4153\n",
      "------------------------------\n",
      "\n",
      "\n",
      "\n",
      "\n",
      "----- ENV: 1 EPISODE: 6 -----\n",
      "Episode Score: 71.00\n",
      "Episode Length: 5395\n",
      "------------------------------\n",
      "\n",
      "\n",
      "\n",
      "\n",
      "----- ENV: 2 EPISODE: 7 -----\n",
      "Episode Score: 86.00\n",
      "Episode Length: 5729\n",
      "------------------------------\n",
      "\n",
      "\n",
      "\n",
      "\n",
      "----- ENV: 1 EPISODE: 7 -----\n",
      "Episode Score: 91.00\n",
      "Episode Length: 5961\n",
      "------------------------------\n",
      "\n",
      "\n"
     ]
    },
    {
     "name": "stderr",
     "output_type": "stream",
     "text": [
      "wandb: WARNING Source type is set to 'repo' but some required information is missing from the environment. A job will not be created from this run. See https://docs.wandb.ai/guides/launch/create-job\n"
     ]
    },
    {
     "data": {
      "text/html": [
       "<style>\n",
       "    table.wandb td:nth-child(1) { padding: 0 10px; text-align: left ; width: auto;} td:nth-child(2) {text-align: left ; width: 100%}\n",
       "    .wandb-row { display: flex; flex-direction: row; flex-wrap: wrap; justify-content: flex-start; width: 100% }\n",
       "    .wandb-col { display: flex; flex-direction: column; flex-basis: 100%; flex: 1; padding: 10px; }\n",
       "    </style>\n",
       "<div class=\"wandb-row\"><div class=\"wandb-col\"><h3>Run history:</h3><br/><table class=\"wandb\"><tr><td>episode_frame_number</td><td>▃▃▁▃▃█▁▃▃▅▁▃▄▅</td></tr><tr><td>episode_length</td><td>▃▃▁▃▃█▁▃▃▅▁▃▄▅</td></tr><tr><td>episode_lives</td><td>▁▁▁▁▁▁▁▁▁▁▁▁▁▁</td></tr><tr><td>episode_score</td><td>▃▃▂▁▂█▁▄▂▃▁▂▃▃</td></tr><tr><td>episode_time</td><td>▁▁▂▂▃▃▄▄▅▆▆▇▇█</td></tr><tr><td>run_frame_number</td><td>▁▁▂▂▃▃▄▄▅▆▆▇▇█</td></tr></table><br/></div><div class=\"wandb-col\"><h3>Run summary:</h3><br/><table class=\"wandb\"><tr><td>episode_frame_number</td><td>5961</td></tr><tr><td>episode_length</td><td>5961</td></tr><tr><td>episode_lives</td><td>0</td></tr><tr><td>episode_score</td><td>91.0</td></tr><tr><td>episode_time</td><td>668.27073</td></tr><tr><td>run_frame_number</td><td>39553</td></tr></table><br/></div></div>"
      ],
      "text/plain": [
       "<IPython.core.display.HTML object>"
      ]
     },
     "metadata": {},
     "output_type": "display_data"
    },
    {
     "data": {
      "text/html": [
       " View run <strong style=\"color:#cdcd00\">dqn_BreakoutNoFrameskip-v4_1_2023-12-19-16-40-20</strong> at: <a href='https://wandb.ai/appliedtheta/Solen-RL-Project-Eval/runs/fa3hi2lk' target=\"_blank\">https://wandb.ai/appliedtheta/Solen-RL-Project-Eval/runs/fa3hi2lk</a><br/>Synced 6 W&B file(s), 0 media file(s), 0 artifact file(s) and 0 other file(s)"
      ],
      "text/plain": [
       "<IPython.core.display.HTML object>"
      ]
     },
     "metadata": {},
     "output_type": "display_data"
    },
    {
     "data": {
      "text/html": [
       "Find logs at: <code>/home/sequenzia/dev/solen-rl-project/logs/wandb/run-20231219_164021-fa3hi2lk/logs</code>"
      ],
      "text/plain": [
       "<IPython.core.display.HTML object>"
      ]
     },
     "metadata": {},
     "output_type": "display_data"
    }
   ],
   "source": [
    "import sys, importlib\n",
    "\n",
    "module_name = 'infer'\n",
    "module_path = '/home/sequenzia/dev/solen-rl-project/utils/infer.py'\n",
    "\n",
    "spec = importlib.util.spec_from_file_location(module_name, module_path)\n",
    "infer = importlib.util.module_from_spec(spec)\n",
    "sys.modules[module_name] = infer\n",
    "spec.loader.exec_module(infer)\n",
    "\n",
    "AGENTS_DIR = \"/home/sequenzia/dev/solen-rl-project/trained-agents\"\n",
    "REWARDS_DIR = f\"/home/sequenzia/dev/solen-rl-project/logs/rewards\"\n",
    "\n",
    "ALGO = \"dqn\"\n",
    "ROM = \"Breakout\"\n",
    "\n",
    "N_ENVS = 2\n",
    "N_STEPS = 10000\n",
    "\n",
    "NO_RENDER = False\n",
    "\n",
    "ENV_ID = f\"{ROM}NoFrameskip-v4\"\n",
    "\n",
    "infer_logs = []\n",
    "\n",
    "infer_logs = infer.infer(env_id=ENV_ID,\n",
    "                                algo=ALGO,\n",
    "                                agents_dir=AGENTS_DIR,\n",
    "                                n_envs=N_ENVS,\n",
    "                                n_steps=N_STEPS,\n",
    "                                no_render=NO_RENDER,\n",
    "                                rewards_dir=REWARDS_DIR,\n",
    "                                debug_on=False)\n",
    "\n"
   ]
  },
  {
   "cell_type": "code",
   "execution_count": 2,
   "metadata": {},
   "outputs": [
    {
     "data": {
      "text/plain": [
       "{'lives': 0,\n",
       " 'episode_frame_number': 5409,\n",
       " 'frame_number': 5409,\n",
       " 'episode': {'r': 109.0, 'l': 5409, 't': 91.992035},\n",
       " 'TimeLimit.truncated': False,\n",
       " 'terminal_observation': array([[[0, 0, 0, 0],\n",
       "         [0, 0, 0, 0],\n",
       "         [0, 0, 0, 0],\n",
       "         ...,\n",
       "         [0, 0, 0, 0],\n",
       "         [0, 0, 0, 0],\n",
       "         [0, 0, 0, 0]],\n",
       " \n",
       "        [[0, 0, 0, 0],\n",
       "         [0, 0, 0, 0],\n",
       "         [0, 0, 0, 0],\n",
       "         ...,\n",
       "         [0, 0, 0, 0],\n",
       "         [0, 0, 0, 0],\n",
       "         [0, 0, 0, 0]],\n",
       " \n",
       "        [[0, 0, 0, 0],\n",
       "         [0, 0, 0, 0],\n",
       "         [0, 0, 0, 0],\n",
       "         ...,\n",
       "         [0, 0, 0, 0],\n",
       "         [0, 0, 0, 0],\n",
       "         [0, 0, 0, 0]],\n",
       " \n",
       "        ...,\n",
       " \n",
       "        [[0, 0, 0, 0],\n",
       "         [0, 0, 0, 0],\n",
       "         [0, 0, 0, 0],\n",
       "         ...,\n",
       "         [0, 0, 0, 0],\n",
       "         [0, 0, 0, 0],\n",
       "         [0, 0, 0, 0]],\n",
       " \n",
       "        [[0, 0, 0, 0],\n",
       "         [0, 0, 0, 0],\n",
       "         [0, 0, 0, 0],\n",
       "         ...,\n",
       "         [0, 0, 0, 0],\n",
       "         [0, 0, 0, 0],\n",
       "         [0, 0, 0, 0]],\n",
       " \n",
       "        [[0, 0, 0, 0],\n",
       "         [0, 0, 0, 0],\n",
       "         [0, 0, 0, 0],\n",
       "         ...,\n",
       "         [0, 0, 0, 0],\n",
       "         [0, 0, 0, 0],\n",
       "         [0, 0, 0, 0]]], dtype=uint8)}"
      ]
     },
     "execution_count": 2,
     "metadata": {},
     "output_type": "execute_result"
    }
   ],
   "source": [
    "infer_logs[0].info_logs[0]"
   ]
  }
 ],
 "metadata": {
  "kernelspec": {
   "display_name": "gym",
   "language": "python",
   "name": "python3"
  },
  "language_info": {
   "codemirror_mode": {
    "name": "ipython",
    "version": 3
   },
   "file_extension": ".py",
   "mimetype": "text/x-python",
   "name": "python",
   "nbconvert_exporter": "python",
   "pygments_lexer": "ipython3",
   "version": "3.9.0"
  }
 },
 "nbformat": 4,
 "nbformat_minor": 2
}

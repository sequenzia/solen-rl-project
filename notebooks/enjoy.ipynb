{
 "cells": [
  {
   "cell_type": "code",
   "execution_count": 1,
   "metadata": {},
   "outputs": [
    {
     "name": "stdout",
     "output_type": "stream",
     "text": [
      "env ->  <class 'huggingface_sb3.naming_schemes.EnvironmentName'>\n",
      "env_name ->  <class 'huggingface_sb3.naming_schemes.EnvironmentName'>\n",
      "Loading latest experiment, id=1\n",
      "Loading /home/sequenzia/dev/solen-rl-project/trained-agents/a2c/BreakoutNoFrameskip-v4_1/best_model.zip\n",
      "A.L.E: Arcade Learning Environment (version 0.8.1+53f58b7)\n",
      "[Powered by Stella]\n",
      "Stacking 4 frames\n",
      "/home/sequenzia/anaconda3/envs/gym/lib/python3.9/site-packages/gymnasium/utils/passive_env_checker.py:335: UserWarning: \u001b[33mWARN: No render fps was declared in the environment (env.metadata['render_fps'] is None or not defined), rendering may occur at inconsistent fps.\u001b[0m\n",
      "  logger.warn(\n"
     ]
    }
   ],
   "source": [
    "from dotenv import load_dotenv\n",
    "\n",
    "load_dotenv()\n",
    "\n",
    "ZOO_DIR = \"/home/sequenzia/dev/repos/rl-baselines3-zoo/rl_zoo3\"\n",
    "LOGS_DIR = \"/home/sequenzia/dev/solen-rl-project/trained-agents\"\n",
    "\n",
    "REWARD_LOG = f\"{LOGS_DIR}/rewards\"\n",
    "\n",
    "ALGO = \"a2c\"\n",
    "ROM = \"Breakout\"\n",
    "\n",
    "N_ENVS = 1\n",
    "N_STEPS = 100\n",
    "\n",
    "ENV_ID = f\"{ROM.capitalize()}NoFrameskip-v4\"\n",
    "\n",
    "CMD = f\"python {ZOO_DIR}/enjoy.py\"\n",
    "CMD += f\" --algo {ALGO}\"\n",
    "CMD += f\" --env {ENV_ID}\"\n",
    "CMD += f\" --folder {LOGS_DIR}\"\n",
    "CMD += f\" --reward-log {REWARD_LOG}\"\n",
    "CMD += f\" --n-envs {N_ENVS}\"\n",
    "CMD += f\" -n {N_STEPS}\"\n",
    "CMD += f\" --device cuda\"\n",
    "CMD += f\" --verbose 1\"\n",
    "CMD += f\" --load-best\"\n",
    "\n",
    "!{CMD}"
   ]
  }
 ],
 "metadata": {
  "kernelspec": {
   "display_name": "gym",
   "language": "python",
   "name": "python3"
  },
  "language_info": {
   "codemirror_mode": {
    "name": "ipython",
    "version": 3
   },
   "file_extension": ".py",
   "mimetype": "text/x-python",
   "name": "python",
   "nbconvert_exporter": "python",
   "pygments_lexer": "ipython3",
   "version": "3.9.0"
  }
 },
 "nbformat": 4,
 "nbformat_minor": 2
}

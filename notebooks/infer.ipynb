{
 "cells": [
  {
   "cell_type": "code",
   "execution_count": 1,
   "metadata": {},
   "outputs": [
    {
     "name": "stdout",
     "output_type": "stream",
     "text": [
      "passive_env_checker gymnasium.logger\n"
     ]
    },
    {
     "name": "stderr",
     "output_type": "stream",
     "text": [
      "/home/sequenzia/anaconda3/envs/gym/lib/python3.9/site-packages/tqdm/auto.py:21: TqdmWarning: IProgress not found. Please update jupyter and ipywidgets. See https://ipywidgets.readthedocs.io/en/stable/user_install.html\n",
      "  from .autonotebook import tqdm as notebook_tqdm\n",
      "Failed to detect the name of this notebook, you can set it manually with the WANDB_NOTEBOOK_NAME environment variable to enable code saving.\n",
      "\u001b[34m\u001b[1mwandb\u001b[0m: Currently logged in as: \u001b[33mappliedtheta\u001b[0m. Use \u001b[1m`wandb login --relogin`\u001b[0m to force relogin\n"
     ]
    },
    {
     "data": {
      "text/html": [
       "Tracking run with wandb version 0.16.1"
      ],
      "text/plain": [
       "<IPython.core.display.HTML object>"
      ]
     },
     "metadata": {},
     "output_type": "display_data"
    },
    {
     "data": {
      "text/html": [
       "Run data is saved locally in <code>/home/sequenzia/dev/solen-rl-project/logs/wandb/run-20231219_164021-fa3hi2lk</code>"
      ],
      "text/plain": [
       "<IPython.core.display.HTML object>"
      ]
     },
     "metadata": {},
     "output_type": "display_data"
    },
    {
     "data": {
      "text/html": [
       "Syncing run <strong><a href='https://wandb.ai/appliedtheta/Solen-RL-Project-Eval/runs/fa3hi2lk' target=\"_blank\">dqn_BreakoutNoFrameskip-v4_1_2023-12-19-16-40-20</a></strong> to <a href='https://wandb.ai/appliedtheta/Solen-RL-Project-Eval' target=\"_blank\">Weights & Biases</a> (<a href='https://wandb.me/run' target=\"_blank\">docs</a>)<br/>"
      ],
      "text/plain": [
       "<IPython.core.display.HTML object>"
      ]
     },
     "metadata": {},
     "output_type": "display_data"
    },
    {
     "data": {
      "text/html": [
       " View project at <a href='https://wandb.ai/appliedtheta/Solen-RL-Project-Eval' target=\"_blank\">https://wandb.ai/appliedtheta/Solen-RL-Project-Eval</a>"
      ],
      "text/plain": [
       "<IPython.core.display.HTML object>"
      ]
     },
     "metadata": {},
     "output_type": "display_data"
    },
    {
     "data": {
      "text/html": [
       " View run at <a href='https://wandb.ai/appliedtheta/Solen-RL-Project-Eval/runs/fa3hi2lk' target=\"_blank\">https://wandb.ai/appliedtheta/Solen-RL-Project-Eval/runs/fa3hi2lk</a>"
      ],
      "text/plain": [
       "<IPython.core.display.HTML object>"
      ]
     },
     "metadata": {},
     "output_type": "display_data"
    },
    {
     "name": "stdout",
     "output_type": "stream",
     "text": [
      "\n",
      "Loading /home/sequenzia/dev/solen-rl-project/trained-agents/dqn/BreakoutNoFrameskip-v4_1/best_model.zip\n",
      "passive_env_checker gymnasium.logger\n",
      "passive_env_checker gymnasium.logger\n"
     ]
    },
    {
     "name": "stderr",
     "output_type": "stream",
     "text": [
      "A.L.E: Arcade Learning Environment (version 0.8.1+53f58b7)\n",
      "[Powered by Stella]\n",
      "A.L.E: Arcade Learning Environment (version 0.8.1+53f58b7)\n",
      "[Powered by Stella]\n"
     ]
    },
    {
     "name": "stdout",
     "output_type": "stream",
     "text": [
      "Stacking 4 frames\n"
     ]
    },
    {
     "name": "stderr",
     "output_type": "stream",
     "text": [
      "/home/sequenzia/anaconda3/envs/gym/lib/python3.9/site-packages/gymnasium/utils/passive_env_checker.py:338: UserWarning: \u001b[33mWARN: No render fps was declared in the environment (env.metadata['render_fps'] is None or not defined), rendering may occur at inconsistent fps.\u001b[0m\n",
      "  logger.warn(\n",
      "/home/sequenzia/anaconda3/envs/gym/lib/python3.9/site-packages/gymnasium/utils/passive_env_checker.py:338: UserWarning: \u001b[33mWARN: No render fps was declared in the environment (env.metadata['render_fps'] is None or not defined), rendering may occur at inconsistent fps.\u001b[0m\n",
      "  logger.warn(\n"
     ]
    }
   ],
   "source": [
    "import sys, importlib\n",
    "\n",
    "module_name = 'infer'\n",
    "module_path = '/home/sequenzia/dev/solen-rl-project/utils/infer.py'\n",
    "\n",
    "spec = importlib.util.spec_from_file_location(module_name, module_path)\n",
    "infer = importlib.util.module_from_spec(spec)\n",
    "sys.modules[module_name] = infer\n",
    "spec.loader.exec_module(infer)\n",
    "\n",
    "AGENTS_DIR = \"/home/sequenzia/dev/solen-rl-project/trained-agents\"\n",
    "REWARDS_DIR = f\"/home/sequenzia/dev/solen-rl-project/logs/rewards\"\n",
    "\n",
    "ALGO = \"dqn\"\n",
    "ROM = \"Breakout\"\n",
    "\n",
    "N_ENVS = 2\n",
    "N_STEPS = 10000\n",
    "\n",
    "NO_RENDER = False\n",
    "\n",
    "ENV_ID = f\"{ROM}NoFrameskip-v4\"\n",
    "\n",
    "infer_logs = []\n",
    "\n",
    "infer_logs = infer.infer(env_id=ENV_ID,\n",
    "                                algo=ALGO,\n",
    "                                agents_dir=AGENTS_DIR,\n",
    "                                n_envs=N_ENVS,\n",
    "                                n_steps=N_STEPS,\n",
    "                                no_render=NO_RENDER,\n",
    "                                rewards_dir=REWARDS_DIR,\n",
    "                                debug_on=False)\n",
    "\n"
   ]
  },
  {
   "cell_type": "code",
   "execution_count": null,
   "metadata": {},
   "outputs": [],
   "source": [
    "infer_logs[0].info_logs[0]"
   ]
  }
 ],
 "metadata": {
  "kernelspec": {
   "display_name": "gym",
   "language": "python",
   "name": "python3"
  },
  "language_info": {
   "codemirror_mode": {
    "name": "ipython",
    "version": 3
   },
   "file_extension": ".py",
   "mimetype": "text/x-python",
   "name": "python",
   "nbconvert_exporter": "python",
   "pygments_lexer": "ipython3",
   "version": "3.9.0"
  }
 },
 "nbformat": 4,
 "nbformat_minor": 2
}

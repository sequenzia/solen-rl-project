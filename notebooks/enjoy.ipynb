{
 "cells": [
  {
   "cell_type": "code",
   "execution_count": 1,
   "metadata": {},
   "outputs": [
    {
     "name": "stdout",
     "output_type": "stream",
     "text": [
      "Loading latest experiment, id=2\n",
      "Loading /home/sequenzia/dev/rl-project/trained-agents/a2c/BreakoutNoFrameskip-v4_2/BreakoutNoFrameskip-v4.zip\n",
      "A.L.E: Arcade Learning Environment (version 0.8.1+53f58b7)\n",
      "[Powered by Stella]\n",
      "Stacking 4 frames\n",
      "/home/sequenzia/anaconda3/envs/gym/lib/python3.9/site-packages/gymnasium/utils/passive_env_checker.py:335: UserWarning: \u001b[33mWARN: No render fps was declared in the environment (env.metadata['render_fps'] is None or not defined), rendering may occur at inconsistent fps.\u001b[0m\n",
      "  logger.warn(\n",
      "Atari Episode Score: 23.00\n",
      "Atari Episode Length 3005\n",
      "Atari Episode Score: 402.00\n",
      "Atari Episode Length 9752\n",
      "Atari Episode Score: 391.00\n",
      "Atari Episode Length 10636\n",
      "Atari Episode Score: 269.00\n",
      "Atari Episode Length 7079\n",
      "Atari Episode Score: 328.00\n",
      "Atari Episode Length 7200\n"
     ]
    }
   ],
   "source": [
    "from dotenv import load_dotenv\n",
    "\n",
    "load_dotenv()\n",
    "\n",
    "ZOO_DIR = \"~/dev/repos/rl-baselines3-zoo\"\n",
    "LOGS_DIR = \"/home/sequenzia/dev/rl-project/trained-agents\"\n",
    "CONFIG_DIR = \"/home/sequenzia/dev/rl-project/configs\"\n",
    "\n",
    "REWARD_LOG = f\"{LOGS_DIR}/reward\"\n",
    "\n",
    "ALGO = \"a2c\"\n",
    "\n",
    "ENV_ID = \"BreakoutNoFrameskip-v4\"\n",
    "\n",
    "!python -m rl_zoo3.enjoy --algo {ALGO} --env {ENV_ID} --folder {LOGS_DIR} --reward-log {REWARD_LOG} -n 10000\n"
   ]
  }
 ],
 "metadata": {
  "kernelspec": {
   "display_name": "gym",
   "language": "python",
   "name": "python3"
  },
  "language_info": {
   "codemirror_mode": {
    "name": "ipython",
    "version": 3
   },
   "file_extension": ".py",
   "mimetype": "text/x-python",
   "name": "python",
   "nbconvert_exporter": "python",
   "pygments_lexer": "ipython3",
   "version": "3.9.0"
  }
 },
 "nbformat": 4,
 "nbformat_minor": 2
}

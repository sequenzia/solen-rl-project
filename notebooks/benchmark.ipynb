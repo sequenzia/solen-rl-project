{
 "cells": [
  {
   "cell_type": "code",
   "execution_count": 1,
   "metadata": {},
   "outputs": [
    {
     "name": "stdout",
     "output_type": "stream",
     "text": [
      "usage: benchmark.py [-h] [--log-dir LOG_DIR] [--benchmark-dir BENCHMARK_DIR]\n",
      "                    [-n N_TIMESTEPS] [--n-envs N_ENVS] [--verbose VERBOSE]\n",
      "                    [--seed SEED] [--test-mode] [--with-mujoco] [--no-hub]\n",
      "                    [--num-threads NUM_THREADS]\n",
      "benchmark.py: error: unrecognized arguments: ---log-dir /home/sequenzia/dev/solen/training/logs\n"
     ]
    }
   ],
   "source": [
    "from dotenv import load_dotenv\n",
    "\n",
    "load_dotenv()\n",
    "\n",
    "ZOO_DIR = \"/home/sequenzia/dev/repos/rl-baselines3-zoo\"\n",
    "\n",
    "LOGS_DIR = \"~/dev/solen/training/logs\"\n",
    "BENCHMARK_DIR = \"~/dev/solen/training/benchmarks\"\n",
    "\n",
    "ALGO = \"a2c\"\n",
    "\n",
    "ENV_ID = \"BreakoutNoFrameskip-v4\"\n",
    "\n",
    "!cd {ZOO_DIR} && python -m rl_zoo3.benchmark --log-dir {LOGS_DIR} --benchmark-dir {BENCHMARK_DIR} --no-hub\n",
    "\n"
   ]
  }
 ],
 "metadata": {
  "kernelspec": {
   "display_name": "gym",
   "language": "python",
   "name": "python3"
  },
  "language_info": {
   "codemirror_mode": {
    "name": "ipython",
    "version": 3
   },
   "file_extension": ".py",
   "mimetype": "text/x-python",
   "name": "python",
   "nbconvert_exporter": "python",
   "pygments_lexer": "ipython3",
   "version": "3.9.0"
  }
 },
 "nbformat": 4,
 "nbformat_minor": 2
}
